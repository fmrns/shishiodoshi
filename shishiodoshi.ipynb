{
 "cells": [
  {
   "cell_type": "markdown",
   "metadata": {},
   "source": [
    "Googleドライブのマイドライブにssodという名前のフォルダを作成します。\n",
    "このipynbファイルをマイドライブのssodフォルダにコピーします。\n",
    "進捗管理をしているxlsxのショートカットをssodフォルダに作成し、以下のTEAM_XLSXに名前をセットします。\n",
    "ipynbファイルをダブルクリックして、アプリで実行 -> Google Colabを選択します。\n",
    "上の「すべてを実行」を押して実行してください。"
   ]
  },
  {
   "cell_type": "code",
   "execution_count": null,
   "metadata": {
    "executionInfo": {
     "elapsed": 5,
     "status": "ok",
     "timestamp": 1759043480065,
     "user": {
      "displayName": "清水文行",
      "userId": "17350385242737644624"
     },
     "user_tz": -540
    },
    "id": "A2imPgtBN9lG"
   },
   "outputs": [],
   "source": [
    "TEAM_XLSX = '/content/drive/My Drive/ssod/進捗管理表.xlsx'"
   ]
  },
  {
   "cell_type": "code",
   "execution_count": null,
   "metadata": {
    "colab": {
     "base_uri": "https://localhost:8080/"
    },
    "executionInfo": {
     "elapsed": 54941,
     "status": "ok",
     "timestamp": 1759043535014,
     "user": {
      "displayName": "清水文行",
      "userId": "17350385242737644624"
     },
     "user_tz": -540
    },
    "id": "6XQdrrG6OAFR",
    "outputId": "b48f139a-99d2-4295-cf5b-df8ffc90d30f"
   },
   "outputs": [],
   "source": [
    "from google.colab import drive, runtime\n",
    "\n",
    "drive.mount(\"/content/drive\")\n",
    "\n",
    "!git clone https://github.com/fmrns/shishiodoshi.git\n",
    "!pip install pendulum\n",
    "!pip install plotly\n",
    "\n",
    "import sys\n",
    "sys.path.append(\"/content/shishiodoshi\")\n",
    "from shishiodoshi.prj import main"
   ]
  },
  {
   "cell_type": "code",
   "execution_count": null,
   "metadata": {},
   "outputs": [],
   "source": [
    "main(xlsx=TEAM_XLSX)\n",
    "#main(xlsx=TEAM_XLSX, nw=\"2026-01-31T13:00\")\n",
    "runtime.unassign()"
   ]
  },
  {
   "cell_type": "markdown",
   "metadata": {
    "id": "KxSo8R6MM9-W"
   },
   "source": [
    "Released under MIT License\n",
    "\n",
    "Copyright (c) 2025 Fumiyuki Shimizu  \n",
    "Copyright (c) 2025 Abacus Technologies, Inc.\n",
    "\n",
    "Permission is hereby granted, free of charge, to any person obtaining a copy of this software and associated documentation files (the \"Software\"), to deal in the Software without restriction, including without limitation the rights to use, copy, modify, merge, publish, distribute, sublicense, and/or sell copies of the Software, and to permit persons to whom the Software is furnished to do so, subject to the following conditions:\n",
    "\n",
    "The above copyright notice and this permission notice shall be included in all copies or substantial portions of the Software.\n",
    "\n",
    "THE SOFTWARE IS PROVIDED \"AS IS\", WITHOUT WARRANTY OF ANY KIND,  EXPRESS OR IMPLIED, INCLUDING BUT NOT LIMITED TO THE WARRANTIES OF MERCHANTABILITY, FITNESS FOR A PARTICULAR PURPOSE AND NONINFRINGEMENT. IN NO EVENT SHALL THE AUTHORS OR COPYRIGHT HOLDERS BE LIABLE FOR ANY CLAIM, DAMAGES OR OTHER LIABILITY, WHETHER IN AN ACTION OF CONTRACT, TORT OR OTHERWISE, ARISING FROM, OUT OF OR IN CONNECTION WITH THE SOFTWARE OR THE USE OR OTHER DEALINGS IN THE\n",
    "SOFTWARE.\n"
   ]
  }
 ],
 "metadata": {
  "colab": {
   "authorship_tag": "ABX9TyNBinYFCl1X9bwQuRaJkMxu",
   "provenance": []
  },
  "kernelspec": {
   "display_name": "Python 3",
   "name": "python3"
  },
  "language_info": {
   "name": "python"
  }
 },
 "nbformat": 4,
 "nbformat_minor": 0
}
